{
 "cells": [
  {
   "cell_type": "code",
   "execution_count": 1,
   "id": "6abcbf99",
   "metadata": {},
   "outputs": [],
   "source": [
    "import warnings\n",
    "warnings.simplefilter(\"ignore\")\n",
    "import cv2\n",
    "import numpy as np\n",
    "import matplotlib.pyplot as plt\n",
    "import tensorflow as tf\n",
    "from tensorflow.keras.models import Sequential\n",
    "from tensorflow.keras.layers import Conv2D, Flatten, Dropout, Dense, MaxPooling2D\n",
    "from tensorflow.keras.optimizers import SGD\n",
    "from keras.datasets import mnist\n",
    "from keras.utils import to_categorical\n",
    "%matplotlib inline"
   ]
  },
  {
   "cell_type": "code",
   "execution_count": 2,
   "id": "42781cb4",
   "metadata": {},
   "outputs": [
    {
     "data": {
      "text/plain": [
       "(60000, 28, 28)"
      ]
     },
     "execution_count": 2,
     "metadata": {},
     "output_type": "execute_result"
    }
   ],
   "source": [
    "(train_X,train_y),(test_X,test_y) = mnist.load_data()\n",
    "train_X.shape"
   ]
  },
  {
   "cell_type": "code",
   "execution_count": 3,
   "id": "5bebe249",
   "metadata": {},
   "outputs": [
    {
     "data": {
      "text/plain": [
       "<matplotlib.image.AxesImage at 0x23b27627e80>"
      ]
     },
     "execution_count": 3,
     "metadata": {},
     "output_type": "execute_result"
    },
    {
     "data": {
      "image/png": "[encoded data removed]",
      "text/plain": [
       "<Figure size 640x480 with 1 Axes>"
      ]
     },
     "metadata": {},
     "output_type": "display_data"
    }
   ],
   "source": [
    "plt.imshow(train_X[2],cmap='gray')"
   ]
  },
  {
   "cell_type": "code",
   "execution_count": 4,
   "id": "ed3c6cb5",
   "metadata": {},
   "outputs": [
    {
     "data": {
      "text/plain": [
       "array([5, 0, 4, ..., 5, 6, 8], dtype=uint8)"
      ]
     },
     "execution_count": 4,
     "metadata": {},
     "output_type": "execute_result"
    }
   ],
   "source": [
    "train_y"
   ]
  },
  {
   "cell_type": "code",
   "execution_count": 5,
   "id": "9adfd8ee",
   "metadata": {},
   "outputs": [],
   "source": [
    "train_X = train_X.reshape(-1,28,28,1)\n",
    "test_X  = test_X.reshape(-1,28,28,1)\n",
    "\n",
    "train_X = train_X.astype('float32')\n",
    "test_X  = test_X.astype('float32')\n",
    "\n",
    "train_X = train_X/255\n",
    "test_X  = test_X/255\n",
    "\n",
    "from keras.utils import np_utils \n",
    "train_y = np_utils.to_categorical(train_y)\n",
    "test_y  = np_utils.to_categorical(test_y)"
   ]
  },
  {
   "cell_type": "code",
   "execution_count": 6,
   "id": "348316c8",
   "metadata": {},
   "outputs": [
    {
     "data": {
      "text/plain": [
       "array([0., 0., 0., 0., 1., 0., 0., 0., 0., 0.], dtype=float32)"
      ]
     },
     "execution_count": 6,
     "metadata": {},
     "output_type": "execute_result"
    }
   ],
   "source": [
    "train_y[2]"
   ]
  },
  {
   "cell_type": "code",
   "execution_count": 7,
   "id": "af3e3309",
   "metadata": {},
   "outputs": [
    {
     "name": "stdout",
     "output_type": "stream",
     "text": [
      "Model: \"sequential\"\n",
      "_________________________________________________________________\n",
      " Layer (type)                Output Shape              Param #   \n",
      "=================================================================\n",
      " conv2d (Conv2D)             (None, 28, 28, 32)        320       \n",
      "                                                                 \n",
      " max_pooling2d (MaxPooling2D  (None, 14, 14, 32)       0         \n",
      " )                                                               \n",
      "                                                                 \n",
      " conv2d_1 (Conv2D)           (None, 14, 14, 64)        18496     \n",
      "                                                                 \n",
      " max_pooling2d_1 (MaxPooling  (None, 7, 7, 64)         0         \n",
      " 2D)                                                             \n",
      "                                                                 \n",
      " dropout (Dropout)           (None, 7, 7, 64)          0         \n",
      "                                                                 \n",
      " flatten (Flatten)           (None, 3136)              0         \n",
      "                                                                 \n",
      " dense (Dense)               (None, 128)               401536    \n",
      "                                                                 \n",
      " dropout_1 (Dropout)         (None, 128)               0         \n",
      "                                                                 \n",
      " dense_1 (Dense)             (None, 10)                1290      \n",
      "                                                                 \n",
      "=================================================================\n",
      "Total params: 421,642\n",
      "Trainable params: 421,642\n",
      "Non-trainable params: 0\n",
      "_________________________________________________________________\n",
      "None\n"
     ]
    }
   ],
   "source": [
    "input_shape=(28,28,1)\n",
    "\n",
    "from tensorflow.keras.models import Sequential\n",
    "from tensorflow.keras.layers import Conv2D,Flatten,Dropout,Dense,MaxPooling2D\n",
    "from tensorflow.keras.optimizers import SGD\n",
    "model = Sequential()\n",
    "\n",
    "model.add(Conv2D(32,kernel_size=(3,3),activation='relu',input_shape=input_shape,padding='SAME'))\n",
    "model.add(MaxPooling2D(pool_size=(2,2)))\n",
    "\n",
    "model.add(Conv2D(64,(3,3),activation='relu',padding='SAME'))\n",
    "model.add(MaxPooling2D(pool_size=(2,2)))\n",
    "model.add(Dropout(0.25))\n",
    "\n",
    "model.add(Flatten())\n",
    "model.add(Dense(128,activation='relu'))\n",
    "model.add(Dropout(0.5))\n",
    "model.add(Dense(10,activation='softmax'))\n",
    "\n",
    "model.compile(loss='categorical_crossentropy',\n",
    "              optimizer=SGD(0.01),\n",
    "              metrics=['accuracy'])\n",
    "\n",
    "print(model.summary())"
   ]
  },
  {
   "cell_type": "code",
   "execution_count": 8,
   "id": "a7d05d12",
   "metadata": {},
   "outputs": [
    {
     "name": "stdout",
     "output_type": "stream",
     "text": [
      "Epoch 1/10\n",
      "1875/1875 [==============================] - 53s 28ms/step - loss: 0.7628 - accuracy: 0.7539 - val_loss: 0.1755 - val_accuracy: 0.9492\n",
      "Epoch 2/10\n",
      "1875/1875 [==============================] - 53s 28ms/step - loss: 0.2554 - accuracy: 0.9226 - val_loss: 0.1125 - val_accuracy: 0.9656\n",
      "Epoch 3/10\n",
      "1875/1875 [==============================] - 52s 28ms/step - loss: 0.1872 - accuracy: 0.9442 - val_loss: 0.0854 - val_accuracy: 0.9716\n",
      "Epoch 4/10\n",
      "1875/1875 [==============================] - 52s 27ms/step - loss: 0.1543 - accuracy: 0.9535 - val_loss: 0.0691 - val_accuracy: 0.9765\n",
      "Epoch 5/10\n",
      "1875/1875 [==============================] - 51s 27ms/step - loss: 0.1350 - accuracy: 0.9596 - val_loss: 0.0600 - val_accuracy: 0.9807\n",
      "Epoch 6/10\n",
      "1875/1875 [==============================] - 51s 27ms/step - loss: 0.1201 - accuracy: 0.9639 - val_loss: 0.0565 - val_accuracy: 0.9801\n",
      "Epoch 7/10\n",
      "1875/1875 [==============================] - 51s 27ms/step - loss: 0.1109 - accuracy: 0.9666 - val_loss: 0.0489 - val_accuracy: 0.9839\n",
      "Epoch 8/10\n",
      "1875/1875 [==============================] - 52s 27ms/step - loss: 0.1018 - accuracy: 0.9694 - val_loss: 0.0453 - val_accuracy: 0.9845\n",
      "Epoch 9/10\n",
      "1875/1875 [==============================] - 51s 27ms/step - loss: 0.0951 - accuracy: 0.9709 - val_loss: 0.0434 - val_accuracy: 0.9861\n",
      "Epoch 10/10\n",
      "1875/1875 [==============================] - 51s 27ms/step - loss: 0.0898 - accuracy: 0.9731 - val_loss: 0.0408 - val_accuracy: 0.9865\n",
      "Test loss-  4.08%\n",
      "Test accuracy-  98.65%\n"
     ]
    }
   ],
   "source": [
    "batch_size=32\n",
    "epochs=10\n",
    "\n",
    "plotting_data = model.fit(train_X,\n",
    "                          train_y,\n",
    "                          batch_size=batch_size,\n",
    "                          epochs=epochs,\n",
    "                          verbose=1,\n",
    "                          validation_data=(test_X,test_y))\n",
    "\n",
    "loss,accuracy = model.evaluate(test_X,test_y,verbose=0)\n",
    "\n",
    "print('Test loss- ',str(round(loss*100,2)) +str('%'))\n",
    "print('Test accuracy- ',str(round(accuracy*100,2)) +str('%'))"
   ]
  },
  {
   "cell_type": "code",
   "execution_count": 9,
   "id": "18885876",
   "metadata": {},
   "outputs": [
    {
     "data": {
      "text/plain": [
       "<matplotlib.legend.Legend at 0x23b27e63a00>"
      ]
     },
     "execution_count": 9,
     "metadata": {},
     "output_type": "execute_result"
    },
    {
     "data": {
      "image/png": "[encoded data removed]",
      "text/plain": [
       "<Figure size 640x480 with 1 Axes>"
      ]
     },
     "metadata": {},
     "output_type": "display_data"
    }
   ],
   "source": [
    "plotting_data_dict = plotting_data.history\n",
    "\n",
    "test_loss = plotting_data_dict['val_loss']\n",
    "training_loss = plotting_data_dict['loss']\n",
    "test_accuracy = plotting_data_dict['val_accuracy']\n",
    "training_accuracy = plotting_data_dict['accuracy']\n",
    "\n",
    "epochs = range(1,len(test_loss)+1)\n",
    "\n",
    "plt.plot(epochs,test_loss,marker='X',label='test_loss',color='hotpink')\n",
    "plt.plot(epochs,training_loss,marker='X',label='training_loss',color='black')\n",
    "plt.legend()"
   ]
  },
  {
   "cell_type": "code",
   "execution_count": 10,
   "id": "b13b2317",
   "metadata": {},
   "outputs": [
    {
     "data": {
      "text/plain": [
       "<matplotlib.legend.Legend at 0x23b27eef310>"
      ]
     },
     "execution_count": 10,
     "metadata": {},
     "output_type": "execute_result"
    },
    {
     "data": {
      "image/png": "[encoded data removed]",
      "text/plain": [
       "<Figure size 640x480 with 1 Axes>"
      ]
     },
     "metadata": {},
     "output_type": "display_data"
    }
   ],
   "source": [
    "plt.plot(epochs,test_accuracy,marker='X',label='test_accuracy',color='hotpink')\n",
    "plt.plot(epochs,training_accuracy,marker='X',label='training_accuracy',color='black')\n",
    "plt.legend()"
   ]
  },
  {
   "cell_type": "code",
   "execution_count": 11,
   "id": "8d9d26e9",
   "metadata": {},
   "outputs": [
    {
     "name": "stdout",
     "output_type": "stream",
     "text": [
      "Model Saved\n"
     ]
    }
   ],
   "source": [
    "model.save('MNIST_10_epochs.h5')\n",
    "print('Model Saved')"
   ]
  },
  {
   "cell_type": "code",
   "execution_count": 12,
   "id": "44ad1321",
   "metadata": {},
   "outputs": [],
   "source": [
    "classifier = tf.keras.models.load_model('MNIST_10_epochs.h5')"
   ]
  },
  {
   "cell_type": "code",
   "execution_count": null,
   "id": "3f9151a6",
   "metadata": {},
   "outputs": [
    {
     "name": "stdout",
     "output_type": "stream",
     "text": [
      "1/1 [==============================] - 0s 94ms/step\n",
      "1/1 [==============================] - 0s 31ms/step\n",
      "1/1 [==============================] - 0s 32ms/step\n",
      "1/1 [==============================] - 0s 16ms/step\n"
     ]
    }
   ],
   "source": [
    "drawing = False\n",
    "cv2.namedWindow('win')\n",
    "black_image = np.zeros((256, 256, 3), np.uint8)\n",
    "ix, iy = -1, -1\n",
    "\n",
    "def draw_circles(event, x, y, flags, param):\n",
    "    global ix, iy, drawing\n",
    "    if event == cv2.EVENT_LBUTTONDOWN:\n",
    "        drawing = True\n",
    "        ix, iy = x, y\n",
    "    elif event == cv2.EVENT_MOUSEMOVE:\n",
    "        if drawing == True:\n",
    "            cv2.circle(black_image, (x, y), 5, (255, 255, 255), -1)\n",
    "    elif event == cv2.EVENT_LBUTTONUP:\n",
    "        drawing = False\n",
    "\n",
    "cv2.setMouseCallback('win', draw_circles)\n",
    "\n",
    "while True:\n",
    "    cv2.imshow('win', black_image)\n",
    "    key = cv2.waitKey(1)\n",
    "    \n",
    "    if key == 27:  # ESC key to exit\n",
    "        break\n",
    "    elif key == 13:  # Enter key to recognize the drawn digit\n",
    "        input_img = cv2.cvtColor(black_image, cv2.COLOR_BGR2GRAY)\n",
    "        input_img = cv2.resize(input_img, (28, 28))\n",
    "        input_img = np.expand_dims(input_img, axis=0)\n",
    "        input_img = np.expand_dims(input_img, axis=-1)\n",
    "        input_img = input_img.astype('float32')\n",
    "        input_img /= 255.0\n",
    "\n",
    "        res = classifier.predict(input_img)[0]\n",
    "        cv2.putText(black_image, text=str(res), org=(205, 30), fontFace=cv2.FONT_HERSHEY_SIMPLEX,\n",
    "                    fontScale=1, color=(255, 255, 255), thickness=2)\n",
    "    elif key == ord('c'):  # 'c' key to clear the drawing\n",
    "        black_image = np.zeros((256, 256, 3), np.uint8)\n",
    "        ix, iy = -1, -1\n",
    "\n",
    "cv2.destroyAllWindows()"
   ]
  },
  {
   "cell_type": "code",
   "execution_count": null,
   "id": "00a13274",
   "metadata": {},
   "outputs": [],
   "source": []
  }
 ],
 "metadata": {
  "kernelspec": {
   "display_name": "Python 3 (ipykernel)",
   "language": "python",
   "name": "python3"
  },
  "language_info": {
   "codemirror_mode": {
    "name": "ipython",
    "version": 3
   },
   "file_extension": ".py",
   "mimetype": "text/x-python",
   "name": "python",
   "nbconvert_exporter": "python",
   "pygments_lexer": "ipython3",
   "version": "3.9.16"
  }
 },
 "nbformat": 4,
 "nbformat_minor": 5
}
